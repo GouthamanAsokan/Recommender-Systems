{
  "nbformat": 4,
  "nbformat_minor": 0,
  "metadata": {
    "colab": {
      "name": "Matrix_Factorization_Keras.ipynb",
      "provenance": [],
      "collapsed_sections": [],
      "toc_visible": true
    },
    "kernelspec": {
      "name": "python3",
      "display_name": "Python 3"
    },
    "accelerator": "GPU"
  },
  "cells": [
    {
      "cell_type": "code",
      "metadata": {
        "id": "Q0prT7AxI3PL",
        "colab_type": "code",
        "colab": {
          "base_uri": "https://localhost:8080/",
          "height": 122
        },
        "outputId": "df1a4e45-77dc-497c-d5f7-077a172083df"
      },
      "source": [
        "from google.colab import drive\n",
        "drive.mount('/content/drive')"
      ],
      "execution_count": 1,
      "outputs": [
        {
          "output_type": "stream",
          "text": [
            "Go to this URL in a browser: https://accounts.google.com/o/oauth2/auth?client_id=947318989803-6bn6qk8qdgf4n4g3pfee6491hc0brc4i.apps.googleusercontent.com&redirect_uri=urn%3aietf%3awg%3aoauth%3a2.0%3aoob&response_type=code&scope=email%20https%3a%2f%2fwww.googleapis.com%2fauth%2fdocs.test%20https%3a%2f%2fwww.googleapis.com%2fauth%2fdrive%20https%3a%2f%2fwww.googleapis.com%2fauth%2fdrive.photos.readonly%20https%3a%2f%2fwww.googleapis.com%2fauth%2fpeopleapi.readonly\n",
            "\n",
            "Enter your authorization code:\n",
            "··········\n",
            "Mounted at /content/drive\n"
          ],
          "name": "stdout"
        }
      ]
    },
    {
      "cell_type": "code",
      "metadata": {
        "id": "NJmjXmdyI_pU",
        "colab_type": "code",
        "colab": {
          "base_uri": "https://localhost:8080/",
          "height": 97
        },
        "outputId": "b0678ca3-f542-44a7-964f-70fabbe7fcdc"
      },
      "source": [
        "from __future__ import print_function, division\n",
        "from builtins import range, input\n",
        "import pickle\n",
        "import numpy as np\n",
        "import pandas as pd\n",
        "import matplotlib.pyplot as plt\n",
        "from sklearn.utils import shuffle\n",
        "\n",
        "from keras.models import Model\n",
        "from keras.layers import Input, Embedding, Dot, Add, Flatten\n",
        "from keras.regularizers import l2\n",
        "from keras.optimizers import SGD, Adam"
      ],
      "execution_count": 2,
      "outputs": [
        {
          "output_type": "stream",
          "text": [
            "Using TensorFlow backend.\n"
          ],
          "name": "stderr"
        },
        {
          "output_type": "display_data",
          "data": {
            "text/html": [
              "<p style=\"color: red;\">\n",
              "The default version of TensorFlow in Colab will soon switch to TensorFlow 2.x.<br>\n",
              "We recommend you <a href=\"https://www.tensorflow.org/guide/migrate\" target=\"_blank\">upgrade</a> now \n",
              "or ensure your notebook will continue to use TensorFlow 1.x via the <code>%tensorflow_version 1.x</code> magic:\n",
              "<a href=\"https://colab.research.google.com/notebooks/tensorflow_version.ipynb\" target=\"_blank\">more info</a>.</p>\n"
            ],
            "text/plain": [
              "<IPython.core.display.HTML object>"
            ]
          },
          "metadata": {
            "tags": []
          }
        }
      ]
    },
    {
      "cell_type": "code",
      "metadata": {
        "id": "8httaIpjJKgx",
        "colab_type": "code",
        "colab": {}
      },
      "source": [
        "# load in the data\n",
        "df = pd.read_csv('/content/drive/My Drive/JSON_Files/edited_rating.csv')\n",
        "\n",
        "N = df.userId.max() + 1 # number of users\n",
        "M = df.movie_idx.max() + 1 # number of movies"
      ],
      "execution_count": 0,
      "outputs": []
    },
    {
      "cell_type": "code",
      "metadata": {
        "id": "z3ZQg3M-JiXU",
        "colab_type": "code",
        "colab": {}
      },
      "source": [
        "# split into train and test\n",
        "df = shuffle(df)\n",
        "cutoff = int(0.8*len(df))\n",
        "df_train = df.iloc[:cutoff]\n",
        "df_test = df.iloc[cutoff:]"
      ],
      "execution_count": 0,
      "outputs": []
    },
    {
      "cell_type": "code",
      "metadata": {
        "id": "X7Ml2oyDJpce",
        "colab_type": "code",
        "colab": {}
      },
      "source": [
        "# initialize variables\n",
        "K = 10 # latent dimensionality\n",
        "mu = df_train.rating.mean()\n",
        "epochs = 8\n",
        "reg = 0. # regularization penalty"
      ],
      "execution_count": 0,
      "outputs": []
    },
    {
      "cell_type": "code",
      "metadata": {
        "id": "m-N51AkxJ0fk",
        "colab_type": "code",
        "colab": {
          "base_uri": "https://localhost:8080/",
          "height": 139
        },
        "outputId": "61026786-f083-46fd-d652-0acabc2a7d50"
      },
      "source": [
        "# keras model\n",
        "u = Input(shape=(1,))\n",
        "m = Input(shape=(1,))\n",
        "u_embedding = Embedding(N, K, embeddings_regularizer=l2(reg))(u) # (N, 1, K)\n",
        "m_embedding = Embedding(M, K, embeddings_regularizer=l2(reg))(m) # (N, 1, K)"
      ],
      "execution_count": 6,
      "outputs": [
        {
          "output_type": "stream",
          "text": [
            "WARNING:tensorflow:From /usr/local/lib/python3.6/dist-packages/keras/backend/tensorflow_backend.py:66: The name tf.get_default_graph is deprecated. Please use tf.compat.v1.get_default_graph instead.\n",
            "\n",
            "WARNING:tensorflow:From /usr/local/lib/python3.6/dist-packages/keras/backend/tensorflow_backend.py:541: The name tf.placeholder is deprecated. Please use tf.compat.v1.placeholder instead.\n",
            "\n",
            "WARNING:tensorflow:From /usr/local/lib/python3.6/dist-packages/keras/backend/tensorflow_backend.py:4432: The name tf.random_uniform is deprecated. Please use tf.random.uniform instead.\n",
            "\n"
          ],
          "name": "stdout"
        }
      ]
    },
    {
      "cell_type": "code",
      "metadata": {
        "id": "2R8mW_9PKQw1",
        "colab_type": "code",
        "colab": {}
      },
      "source": [
        "u_bias = Embedding(N, 1, embeddings_regularizer=l2(reg))(u) # (N, 1, 1)\n",
        "m_bias = Embedding(M, 1, embeddings_regularizer=l2(reg))(m) # (N, 1, 1)\n",
        "x = Dot(axes=2)([u_embedding, m_embedding]) # (N, 1, 1)"
      ],
      "execution_count": 0,
      "outputs": []
    },
    {
      "cell_type": "code",
      "metadata": {
        "id": "bGvVhfanKUps",
        "colab_type": "code",
        "colab": {}
      },
      "source": [
        "x = Add()([x, u_bias, m_bias])\n",
        "x = Flatten()(x) # (N, 1)"
      ],
      "execution_count": 0,
      "outputs": []
    },
    {
      "cell_type": "code",
      "metadata": {
        "id": "n3fcCezDKogb",
        "colab_type": "code",
        "colab": {
          "base_uri": "https://localhost:8080/",
          "height": 822
        },
        "outputId": "02f05318-9a94-47b5-da1c-fd99fd659165"
      },
      "source": [
        "model = Model(inputs=[u, m], outputs=x)\n",
        "model.compile(\n",
        "  loss='mse',\n",
        "  # optimizer='adam',\n",
        "  # optimizer=Adam(lr=0.01),\n",
        "  optimizer=SGD(lr=0.08, momentum=0.9),\n",
        "  metrics=['mse'],\n",
        ")\n",
        "\n",
        "r = model.fit(\n",
        "  x=[df_train.userId.values, df_train.movie_idx.values],\n",
        "  y=df_train.rating.values - mu,\n",
        "  epochs=epochs,\n",
        "  batch_size=128,\n",
        "  validation_data=(\n",
        "    [df_test.userId.values, df_test.movie_idx.values],\n",
        "    df_test.rating.values - mu\n",
        "  )\n",
        ")\n",
        "\n",
        "\n",
        "# plot losses\n",
        "plt.plot(r.history['loss'], label=\"train loss\")\n",
        "plt.plot(r.history['val_loss'], label=\"test loss\")\n",
        "plt.legend()\n",
        "plt.show()\n",
        "\n",
        "# plot mse\n",
        "plt.plot(r.history['mean_squared_error'], label=\"train mse\")\n",
        "plt.plot(r.history['val_mean_squared_error'], label=\"test mse\")\n",
        "plt.legend()\n",
        "plt.show()\n"
      ],
      "execution_count": 11,
      "outputs": [
        {
          "output_type": "stream",
          "text": [
            "Train on 16000210 samples, validate on 4000053 samples\n",
            "Epoch 1/8\n",
            "16000210/16000210 [==============================] - 363s 23us/step - loss: 0.5362 - mean_squared_error: 0.5362 - val_loss: 0.6251 - val_mean_squared_error: 0.6251\n",
            "Epoch 2/8\n",
            "16000210/16000210 [==============================] - 358s 22us/step - loss: 0.5350 - mean_squared_error: 0.5350 - val_loss: 0.6257 - val_mean_squared_error: 0.6257\n",
            "Epoch 3/8\n",
            "16000210/16000210 [==============================] - 352s 22us/step - loss: 0.5338 - mean_squared_error: 0.5338 - val_loss: 0.6267 - val_mean_squared_error: 0.6267\n",
            "Epoch 4/8\n",
            "16000210/16000210 [==============================] - 352s 22us/step - loss: 0.5328 - mean_squared_error: 0.5328 - val_loss: 0.6268 - val_mean_squared_error: 0.6268\n",
            "Epoch 5/8\n",
            "16000210/16000210 [==============================] - 353s 22us/step - loss: 0.5319 - mean_squared_error: 0.5319 - val_loss: 0.6271 - val_mean_squared_error: 0.6271\n",
            "Epoch 6/8\n",
            "16000210/16000210 [==============================] - 354s 22us/step - loss: 0.5311 - mean_squared_error: 0.5311 - val_loss: 0.6275 - val_mean_squared_error: 0.6275\n",
            "Epoch 7/8\n",
            "16000210/16000210 [==============================] - 352s 22us/step - loss: 0.5303 - mean_squared_error: 0.5303 - val_loss: 0.6280 - val_mean_squared_error: 0.6280\n",
            "Epoch 8/8\n",
            "16000210/16000210 [==============================] - 348s 22us/step - loss: 0.5295 - mean_squared_error: 0.5295 - val_loss: 0.6285 - val_mean_squared_error: 0.6285\n"
          ],
          "name": "stdout"
        },
        {
          "output_type": "display_data",
          "data": {
            "image/png": "[encoded data removed]",
            "text/plain": [
              "<Figure size 432x288 with 1 Axes>"
            ]
          },
          "metadata": {
            "tags": []
          }
        },
        {
          "output_type": "display_data",
          "data": {
            "image/png": "[encoded data removed]",
            "text/plain": [
              "<Figure size 432x288 with 1 Axes>"
            ]
          },
          "metadata": {
            "tags": []
          }
        }
      ]
    }
  ]
}