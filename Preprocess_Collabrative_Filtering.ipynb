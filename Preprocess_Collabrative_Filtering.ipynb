{
  "nbformat": 4,
  "nbformat_minor": 0,
  "metadata": {
    "colab": {
      "name": "Preprocess_Collabrative_Filtering.ipynb",
      "provenance": [],
      "collapsed_sections": [],
      "toc_visible": true
    },
    "kernelspec": {
      "name": "python3",
      "display_name": "Python 3"
    },
    "accelerator": "GPU"
  },
  "cells": [
    {
      "cell_type": "code",
      "metadata": {
        "id": "PTPJXjzP1ZnE",
        "colab_type": "code",
        "colab": {
          "base_uri": "https://localhost:8080/",
          "height": 224
        },
        "outputId": "4aaf0cb0-7a61-42ed-8bf7-cec3bedb6ae9"
      },
      "source": [
        "!pip install kaggle"
      ],
      "execution_count": 1,
      "outputs": [
        {
          "output_type": "stream",
          "text": [
            "Requirement already satisfied: kaggle in /usr/local/lib/python3.6/dist-packages (1.5.6)\n",
            "Requirement already satisfied: six>=1.10 in /usr/local/lib/python3.6/dist-packages (from kaggle) (1.12.0)\n",
            "Requirement already satisfied: tqdm in /usr/local/lib/python3.6/dist-packages (from kaggle) (4.28.1)\n",
            "Requirement already satisfied: certifi in /usr/local/lib/python3.6/dist-packages (from kaggle) (2019.9.11)\n",
            "Requirement already satisfied: python-slugify in /usr/local/lib/python3.6/dist-packages (from kaggle) (4.0.0)\n",
            "Requirement already satisfied: requests in /usr/local/lib/python3.6/dist-packages (from kaggle) (2.21.0)\n",
            "Requirement already satisfied: python-dateutil in /usr/local/lib/python3.6/dist-packages (from kaggle) (2.6.1)\n",
            "Requirement already satisfied: urllib3<1.25,>=1.21.1 in /usr/local/lib/python3.6/dist-packages (from kaggle) (1.24.3)\n",
            "Requirement already satisfied: text-unidecode>=1.3 in /usr/local/lib/python3.6/dist-packages (from python-slugify->kaggle) (1.3)\n",
            "Requirement already satisfied: chardet<3.1.0,>=3.0.2 in /usr/local/lib/python3.6/dist-packages (from requests->kaggle) (3.0.4)\n",
            "Requirement already satisfied: idna<2.9,>=2.5 in /usr/local/lib/python3.6/dist-packages (from requests->kaggle) (2.8)\n"
          ],
          "name": "stdout"
        }
      ]
    },
    {
      "cell_type": "code",
      "metadata": {
        "id": "oO00SAOX2JWv",
        "colab_type": "code",
        "colab": {}
      },
      "source": [
        "mkdir .kaggle"
      ],
      "execution_count": 0,
      "outputs": []
    },
    {
      "cell_type": "code",
      "metadata": {
        "id": "RnbuA_ZY2Uz2",
        "colab_type": "code",
        "colab": {
          "base_uri": "https://localhost:8080/",
          "height": 71
        },
        "outputId": "835b9bc2-e556-4ee5-8402-c3120703c968"
      },
      "source": [
        "!cp /content/.kaggle/kaggle.json ~/.kaggle/kaggle.json\n",
        "!kaggle config set -n path -v{/content}"
      ],
      "execution_count": 6,
      "outputs": [
        {
          "output_type": "stream",
          "text": [
            "Warning: Your Kaggle API key is readable by other users on this system! To fix this, you can run 'chmod 600 /root/.kaggle/kaggle.json'\n",
            "- path is now set to: {/content}\n"
          ],
          "name": "stdout"
        }
      ]
    },
    {
      "cell_type": "code",
      "metadata": {
        "id": "BaHNP8He2gUn",
        "colab_type": "code",
        "colab": {}
      },
      "source": [
        "!chmod 600 /root/.kaggle/kaggle.json"
      ],
      "execution_count": 0,
      "outputs": []
    },
    {
      "cell_type": "code",
      "metadata": {
        "id": "MOSaIBLQ2mEY",
        "colab_type": "code",
        "colab": {
          "base_uri": "https://localhost:8080/",
          "height": 428
        },
        "outputId": "70b74491-4097-410b-c6af-e596812aebab"
      },
      "source": [
        "!kaggle datasets list -s movielens"
      ],
      "execution_count": 8,
      "outputs": [
        {
          "output_type": "stream",
          "text": [
            "Warning: Looks like you're using an outdated API Version, please consider updating (server 1.5.6 / client 1.5.4)\n",
            "ref                                                    title                                             size  lastUpdated          downloadCount  \n",
            "-----------------------------------------------------  -----------------------------------------------  -----  -------------------  -------------  \n",
            "grouplens/movielens-20m-dataset                        MovieLens 20M Dataset                            195MB  2018-08-15 23:09:34          10548  \n",
            "prajitdatta/movielens-100k-dataset                     MovieLens 100K Dataset                             5MB  2017-01-05 12:37:32           5539  \n",
            "rounakbanik/the-movies-dataset                         The Movies Dataset                               228MB  2017-11-10 02:40:38          69008  \n",
            "sherinclaudia/movielens                                Movielens                                          6MB  2019-01-21 13:20:43            477  \n",
            "jneupane12/movielens                                   MovieLens                                         12MB  2017-11-02 15:35:53           1397  \n",
            "snehal1409/movielens                                   MovieLens                                        910KB  2018-01-17 08:00:51            459  \n",
            "grouplens/movielens-latest-small                       MovieLens Latest Small                           971KB  2018-10-12 15:02:12            294  \n",
            "rajmehra03/movielens100k                               MovieLens-100K                                     2MB  2018-10-31 12:02:19            393  \n",
            "fernandobugni/movielens                                MovieLens                                        876KB  2018-09-18 18:52:51             97  \n",
            "gspmoreira/articles-sharing-reading-from-cit-deskdrop  Articles sharing and reading from CI&T DeskDrop    8MB  2017-08-27 21:33:01           5319  \n",
            "zygmunt/goodbooks-10k                                  goodbooks-10k                                     12MB  2017-09-02 15:34:30          10921  \n",
            "grouplens/movielens-latest-full                        MovieLens Latest Full                            272MB  2018-10-12 15:15:37            313  \n",
            "neha1703/movie-genre-from-its-poster                   Movie Genre from its Poster                       36MB  2018-05-15 05:45:06           3042  \n",
            "ghrzarea/movielens-20m-posters-for-machine-learning    MovieLens 20M Posters for Machine Learning       731MB  2018-07-24 17:20:41            174  \n",
            "tushar987/movielens                                    MovieLens Dataset                                905KB  2017-11-13 21:32:44            373  \n",
            "ktochylin/movielens                                    movielens                                        390MB  2017-12-10 15:48:11             66  \n",
            "harunshimanto/movielens                                MovieLens Web Site                               390MB  2018-09-14 13:42:20             26  \n",
            "abhikjha/movielens-100k                                MovieLens 100k                                   971KB  2019-09-26 03:47:40             19  \n",
            "ashukr/movie-rating-data                               movie_rating_data                                134MB  2017-11-09 18:45:12            602  \n",
            "sengzhaotoo/movielens-small                            Movielens (Small)                                910KB  2017-11-05 07:12:29            315  \n"
          ],
          "name": "stdout"
        }
      ]
    },
    {
      "cell_type": "code",
      "metadata": {
        "id": "g4Q0sQUx2_pD",
        "colab_type": "code",
        "colab": {
          "base_uri": "https://localhost:8080/",
          "height": 68
        },
        "outputId": "7b27efe4-2553-4418-eeae-56262dc59faa"
      },
      "source": [
        "!kaggle datasets download -d grouplens/movielens-20m-dataset -p /content"
      ],
      "execution_count": 9,
      "outputs": [
        {
          "output_type": "stream",
          "text": [
            "Downloading movielens-20m-dataset.zip to /content\n",
            " 92% 180M/195M [00:07<00:00, 23.5MB/s]\n",
            "100% 195M/195M [00:07<00:00, 28.3MB/s]\n"
          ],
          "name": "stdout"
        }
      ]
    },
    {
      "cell_type": "code",
      "metadata": {
        "id": "M8JOLyCS3I5U",
        "colab_type": "code",
        "colab": {
          "base_uri": "https://localhost:8080/",
          "height": 136
        },
        "outputId": "7d3b091f-edfa-4fb4-dff2-9b6609af09c3"
      },
      "source": [
        "!unzip \\*.zip"
      ],
      "execution_count": 10,
      "outputs": [
        {
          "output_type": "stream",
          "text": [
            "Archive:  movielens-20m-dataset.zip\n",
            "  inflating: genome_scores.csv       \n",
            "  inflating: genome_tags.csv         \n",
            "  inflating: link.csv                \n",
            "  inflating: movie.csv               \n",
            "  inflating: rating.csv              \n",
            "  inflating: tag.csv                 \n"
          ],
          "name": "stdout"
        }
      ]
    },
    {
      "cell_type": "code",
      "metadata": {
        "id": "-R0bMidM3QAJ",
        "colab_type": "code",
        "colab": {}
      },
      "source": [
        "from __future__ import print_function, division\n",
        "from builtins import range, input"
      ],
      "execution_count": 0,
      "outputs": []
    },
    {
      "cell_type": "code",
      "metadata": {
        "id": "LRFNmJEj4y9Y",
        "colab_type": "code",
        "colab": {}
      },
      "source": [
        "import pandas as pd"
      ],
      "execution_count": 0,
      "outputs": []
    },
    {
      "cell_type": "code",
      "metadata": {
        "id": "12a-YxEz43q3",
        "colab_type": "code",
        "colab": {}
      },
      "source": [
        "df = pd.read_csv('rating.csv')"
      ],
      "execution_count": 0,
      "outputs": []
    },
    {
      "cell_type": "code",
      "metadata": {
        "id": "Th3EratK5AO2",
        "colab_type": "code",
        "colab": {}
      },
      "source": [
        "# make the user ids go from 0...N-1\n",
        "df.userId = df.userId - 1"
      ],
      "execution_count": 0,
      "outputs": []
    },
    {
      "cell_type": "code",
      "metadata": {
        "id": "V-gbAZs25E08",
        "colab_type": "code",
        "colab": {
          "base_uri": "https://localhost:8080/",
          "height": 221
        },
        "outputId": "26e224b5-03c6-46a6-a974-b30a392b4e97"
      },
      "source": [
        "df.userId"
      ],
      "execution_count": 15,
      "outputs": [
        {
          "output_type": "execute_result",
          "data": {
            "text/plain": [
              "0                0\n",
              "1                0\n",
              "2                0\n",
              "3                0\n",
              "4                0\n",
              "             ...  \n",
              "20000258    138492\n",
              "20000259    138492\n",
              "20000260    138492\n",
              "20000261    138492\n",
              "20000262    138492\n",
              "Name: userId, Length: 20000263, dtype: int64"
            ]
          },
          "metadata": {
            "tags": []
          },
          "execution_count": 15
        }
      ]
    },
    {
      "cell_type": "code",
      "metadata": {
        "id": "WS3KFyfk5kXd",
        "colab_type": "code",
        "colab": {}
      },
      "source": [
        "# create a mapping for movie ids\n",
        "unique_movie_ids = set(df.movieId.values)\n",
        "movie2idx = {}\n",
        "count = 0\n",
        "for movie_id in unique_movie_ids:\n",
        "  movie2idx[movie_id] = count\n",
        "  count += 1\n",
        "\n",
        "# add them to the data frame\n",
        "# takes awhile\n",
        "df['movie_idx'] = df.apply(lambda row: movie2idx[row.movieId], axis=1)\n",
        "\n",
        "df = df.drop(columns=['timestamp'])\n",
        "\n",
        "df.to_csv('edited_rating.csv', index=False)"
      ],
      "execution_count": 0,
      "outputs": []
    },
    {
      "cell_type": "code",
      "metadata": {
        "id": "OkUJ7NuV7T5K",
        "colab_type": "code",
        "colab": {}
      },
      "source": [
        "import pickle\n",
        "import numpy as np\n",
        "import pandas as pd\n",
        "from collections import Counter"
      ],
      "execution_count": 0,
      "outputs": []
    },
    {
      "cell_type": "code",
      "metadata": {
        "id": "xE8L5L777ie_",
        "colab_type": "code",
        "colab": {
          "base_uri": "https://localhost:8080/",
          "height": 34
        },
        "outputId": "26739035-c65d-44bf-8b9e-44bf82aa06ec"
      },
      "source": [
        "df = pd.read_csv('edited_rating.csv')\n",
        "print(\"original dataframe size:\", len(df))"
      ],
      "execution_count": 18,
      "outputs": [
        {
          "output_type": "stream",
          "text": [
            "original dataframe size: 20000263\n"
          ],
          "name": "stdout"
        }
      ]
    },
    {
      "cell_type": "code",
      "metadata": {
        "id": "NgV73v1x7qiJ",
        "colab_type": "code",
        "colab": {}
      },
      "source": [
        "N = df.userId.max() + 1 # number of users\n",
        "M = df.movie_idx.max() + 1 # number of movies\n",
        "\n",
        "user_ids_count = Counter(df.userId)\n",
        "movie_ids_count = Counter(df.movie_idx)"
      ],
      "execution_count": 0,
      "outputs": []
    },
    {
      "cell_type": "code",
      "metadata": {
        "id": "rfiH7mo370VG",
        "colab_type": "code",
        "colab": {}
      },
      "source": [
        "# number of users and movies we would like to keep\n",
        "n = 10000\n",
        "m = 2000\n",
        "\n",
        "user_ids = [u for u, c in user_ids_count.most_common(n)]\n",
        "movie_ids = [m for m, c in movie_ids_count.most_common(m)]"
      ],
      "execution_count": 0,
      "outputs": []
    },
    {
      "cell_type": "code",
      "metadata": {
        "id": "fP7jWGK877sc",
        "colab_type": "code",
        "colab": {
          "base_uri": "https://localhost:8080/",
          "height": 51
        },
        "outputId": "c68f4a86-59c8-48f4-c53c-075c4fdc787b"
      },
      "source": [
        "# make a copy, otherwise ids won't be overwritten\n",
        "df_small = df[df.userId.isin(user_ids) & df.movie_idx.isin(movie_ids)].copy()\n",
        "\n",
        "# need to remake user ids and movie ids since they are no longer sequential\n",
        "new_user_id_map = {}\n",
        "i = 0\n",
        "for old in user_ids:\n",
        "  new_user_id_map[old] = i\n",
        "  i += 1\n",
        "print(\"i:\", i)\n",
        "\n",
        "new_movie_id_map = {}\n",
        "j = 0\n",
        "for old in movie_ids:\n",
        "  new_movie_id_map[old] = j\n",
        "  j += 1\n",
        "print(\"j:\", j)"
      ],
      "execution_count": 21,
      "outputs": [
        {
          "output_type": "stream",
          "text": [
            "i: 10000\n",
            "j: 2000\n"
          ],
          "name": "stdout"
        }
      ]
    },
    {
      "cell_type": "code",
      "metadata": {
        "id": "wrvqCaia9B7J",
        "colab_type": "code",
        "colab": {
          "base_uri": "https://localhost:8080/",
          "height": 68
        },
        "outputId": "aca20ed1-7d03-480f-c20f-b5096f48f2c3"
      },
      "source": [
        "print(\"Setting new ids\")\n",
        "df_small.loc[:, 'userId'] = df_small.apply(lambda row: new_user_id_map[row.userId], axis=1)\n",
        "df_small.loc[:, 'movie_idx'] = df_small.apply(lambda row: new_movie_id_map[row.movie_idx], axis=1)\n",
        "# df_small.drop(columns=['userId', 'movie_idx'])\n",
        "# df_small.rename(index=str, columns={'new_userId': 'userId', 'new_movie_idx': 'movie_idx'})\n",
        "print(\"max user id:\", df_small.userId.max())\n",
        "print(\"max movie id:\", df_small.movie_idx.max())"
      ],
      "execution_count": 22,
      "outputs": [
        {
          "output_type": "stream",
          "text": [
            "Setting new ids\n",
            "max user id: 9999\n",
            "max movie id: 1999\n"
          ],
          "name": "stdout"
        }
      ]
    },
    {
      "cell_type": "code",
      "metadata": {
        "id": "O_WjShUy-F6R",
        "colab_type": "code",
        "colab": {
          "base_uri": "https://localhost:8080/",
          "height": 34
        },
        "outputId": "48f794c2-2741-44d7-fdb8-0629a1570cdf"
      },
      "source": [
        "print(\"small dataframe size:\", len(df_small))\n",
        "df_small.to_csv('small_rating.csv', index=False)"
      ],
      "execution_count": 23,
      "outputs": [
        {
          "output_type": "stream",
          "text": [
            "small dataframe size: 5392025\n"
          ],
          "name": "stdout"
        }
      ]
    },
    {
      "cell_type": "code",
      "metadata": {
        "id": "UrU-Sxkq-RzN",
        "colab_type": "code",
        "colab": {}
      },
      "source": [
        "import pickle\n",
        "import numpy as np\n",
        "import pandas as pd\n",
        "import matplotlib.pyplot as plt\n",
        "from sklearn.utils import shuffle"
      ],
      "execution_count": 0,
      "outputs": []
    },
    {
      "cell_type": "code",
      "metadata": {
        "id": "D8aEcSKM-YCY",
        "colab_type": "code",
        "colab": {}
      },
      "source": [
        "df = pd.read_csv('small_rating.csv')\n",
        "\n",
        "N = df.userId.max() + 1 # number of users\n",
        "M = df.movie_idx.max() + 1 # number of movies"
      ],
      "execution_count": 0,
      "outputs": []
    },
    {
      "cell_type": "code",
      "metadata": {
        "id": "B0ZpAujr-icm",
        "colab_type": "code",
        "colab": {}
      },
      "source": [
        "# split into train and test\n",
        "df = shuffle(df)\n",
        "cutoff = int(0.8*len(df))\n",
        "df_train = df.iloc[:cutoff]\n",
        "df_test = df.iloc[cutoff:]"
      ],
      "execution_count": 0,
      "outputs": []
    },
    {
      "cell_type": "code",
      "metadata": {
        "id": "qDiduE9f-8yM",
        "colab_type": "code",
        "colab": {}
      },
      "source": [
        "# a dictionary to tell us which users have rated which movies\n",
        "user2movie = {}\n",
        "# a dicationary to tell us which movies have been rated by which users\n",
        "movie2user = {}\n",
        "# a dictionary to look up ratings\n",
        "usermovie2rating = {}"
      ],
      "execution_count": 0,
      "outputs": []
    },
    {
      "cell_type": "code",
      "metadata": {
        "id": "8blQQukk_A7i",
        "colab_type": "code",
        "colab": {
          "base_uri": "https://localhost:8080/",
          "height": 969
        },
        "outputId": "dc58b61f-0713-4782-a6d8-6fe082be8dce"
      },
      "source": [
        "print(\"Calling: update_user2movie_and_movie2user\")\n",
        "count = 0\n",
        "def update_user2movie_and_movie2user(row):\n",
        "  global count\n",
        "  count += 1\n",
        "  if count % 100000 == 0:\n",
        "    print(\"processed: %.3f\" % (float(count)/cutoff))\n",
        "\n",
        "  i = int(row.userId)\n",
        "  j = int(row.movie_idx)\n",
        "  if i not in user2movie:\n",
        "    user2movie[i] = [j]\n",
        "  else:\n",
        "    user2movie[i].append(j)\n",
        "\n",
        "  if j not in movie2user:\n",
        "    movie2user[j] = [i]\n",
        "  else:\n",
        "    movie2user[j].append(i)\n",
        "\n",
        "  usermovie2rating[(i,j)] = row.rating\n",
        "df_train.apply(update_user2movie_and_movie2user, axis=1)"
      ],
      "execution_count": 29,
      "outputs": [
        {
          "output_type": "stream",
          "text": [
            "Calling: update_user2movie_and_movie2user\n",
            "processed: 0.023\n",
            "processed: 0.046\n",
            "processed: 0.070\n",
            "processed: 0.093\n",
            "processed: 0.116\n",
            "processed: 0.139\n",
            "processed: 0.162\n",
            "processed: 0.185\n",
            "processed: 0.209\n",
            "processed: 0.232\n",
            "processed: 0.255\n",
            "processed: 0.278\n",
            "processed: 0.301\n",
            "processed: 0.325\n",
            "processed: 0.348\n",
            "processed: 0.371\n",
            "processed: 0.394\n",
            "processed: 0.417\n",
            "processed: 0.440\n",
            "processed: 0.464\n",
            "processed: 0.487\n",
            "processed: 0.510\n",
            "processed: 0.533\n",
            "processed: 0.556\n",
            "processed: 0.580\n",
            "processed: 0.603\n",
            "processed: 0.626\n",
            "processed: 0.649\n",
            "processed: 0.672\n",
            "processed: 0.695\n",
            "processed: 0.719\n",
            "processed: 0.742\n",
            "processed: 0.765\n",
            "processed: 0.788\n",
            "processed: 0.811\n",
            "processed: 0.835\n",
            "processed: 0.858\n",
            "processed: 0.881\n",
            "processed: 0.904\n",
            "processed: 0.927\n",
            "processed: 0.950\n",
            "processed: 0.974\n",
            "processed: 0.997\n"
          ],
          "name": "stdout"
        },
        {
          "output_type": "execute_result",
          "data": {
            "text/plain": [
              "815435     None\n",
              "1453086    None\n",
              "3443241    None\n",
              "4605686    None\n",
              "1964943    None\n",
              "           ... \n",
              "1028406    None\n",
              "1220161    None\n",
              "4557186    None\n",
              "5217453    None\n",
              "190377     None\n",
              "Length: 4313620, dtype: object"
            ]
          },
          "metadata": {
            "tags": []
          },
          "execution_count": 29
        }
      ]
    },
    {
      "cell_type": "code",
      "metadata": {
        "id": "qI371cbsAGDu",
        "colab_type": "code",
        "colab": {
          "base_uri": "https://localhost:8080/",
          "height": 408
        },
        "outputId": "ce1de8eb-0481-410a-b1d2-3c6d0d518dbd"
      },
      "source": [
        "# test ratings dictionary\n",
        "usermovie2rating_test = {}\n",
        "print(\"Calling: update_usermovie2rating_test\")\n",
        "count = 0\n",
        "def update_usermovie2rating_test(row):\n",
        "  global count\n",
        "  count += 1\n",
        "  if count % 100000 == 0:\n",
        "    print(\"processed: %.3f\" % (float(count)/len(df_test)))\n",
        "\n",
        "  i = int(row.userId)\n",
        "  j = int(row.movie_idx)\n",
        "  usermovie2rating_test[(i,j)] = row.rating\n",
        "df_test.apply(update_usermovie2rating_test, axis=1)"
      ],
      "execution_count": 30,
      "outputs": [
        {
          "output_type": "stream",
          "text": [
            "Calling: update_usermovie2rating_test\n",
            "processed: 0.093\n",
            "processed: 0.185\n",
            "processed: 0.278\n",
            "processed: 0.371\n",
            "processed: 0.464\n",
            "processed: 0.556\n",
            "processed: 0.649\n",
            "processed: 0.742\n",
            "processed: 0.835\n",
            "processed: 0.927\n"
          ],
          "name": "stdout"
        },
        {
          "output_type": "execute_result",
          "data": {
            "text/plain": [
              "927849     None\n",
              "2132141    None\n",
              "4302001    None\n",
              "1466343    None\n",
              "4220148    None\n",
              "           ... \n",
              "3615550    None\n",
              "287480     None\n",
              "5086912    None\n",
              "5183025    None\n",
              "1902566    None\n",
              "Length: 1078405, dtype: object"
            ]
          },
          "metadata": {
            "tags": []
          },
          "execution_count": 30
        }
      ]
    },
    {
      "cell_type": "code",
      "metadata": {
        "id": "8Xflm6k-ArNX",
        "colab_type": "code",
        "colab": {
          "base_uri": "https://localhost:8080/",
          "height": 122
        },
        "outputId": "53c1df60-27c6-4561-9ef4-0a65b1c0efcf"
      },
      "source": [
        "from google.colab import drive\n",
        "drive.mount('/content/drive')"
      ],
      "execution_count": 32,
      "outputs": [
        {
          "output_type": "stream",
          "text": [
            "Go to this URL in a browser: https://accounts.google.com/o/oauth2/auth?client_id=947318989803-6bn6qk8qdgf4n4g3pfee6491hc0brc4i.apps.googleusercontent.com&redirect_uri=urn%3aietf%3awg%3aoauth%3a2.0%3aoob&response_type=code&scope=email%20https%3a%2f%2fwww.googleapis.com%2fauth%2fdocs.test%20https%3a%2f%2fwww.googleapis.com%2fauth%2fdrive%20https%3a%2f%2fwww.googleapis.com%2fauth%2fdrive.photos.readonly%20https%3a%2f%2fwww.googleapis.com%2fauth%2fpeopleapi.readonly\n",
            "\n",
            "Enter your authorization code:\n",
            "··········\n",
            "Mounted at /content/drive\n"
          ],
          "name": "stdout"
        }
      ]
    },
    {
      "cell_type": "code",
      "metadata": {
        "id": "T0kbiAWdAbLX",
        "colab_type": "code",
        "colab": {}
      },
      "source": [
        "# note: these are not really JSONs\n",
        "with open('/content/drive/My Drive/Colab Notebooks/Json_Files/user2movie.json', 'wb') as f:\n",
        "  pickle.dump(user2movie, f)\n",
        "\n",
        "with open('/content/drive/My Drive/Colab Notebooks/Json_Files/movie2user.json', 'wb') as f:\n",
        "  pickle.dump(movie2user, f)\n",
        "\n",
        "with open('/content/drive/My Drive/Colab Notebooks/Json_Files/usermovie2rating.json', 'wb') as f:\n",
        "  pickle.dump(usermovie2rating, f)\n",
        "\n",
        "with open('/content/drive/My Drive/Colab Notebooks/Json_Files/usermovie2rating_test.json', 'wb') as f:\n",
        "  pickle.dump(usermovie2rating_test, f)\n"
      ],
      "execution_count": 0,
      "outputs": []
    }
  ]
}