{
  "nbformat": 4,
  "nbformat_minor": 0,
  "metadata": {
    "colab": {
      "provenance": []
    },
    "kernelspec": {
      "name": "python3",
      "display_name": "Python 3"
    },
    "language_info": {
      "name": "python"
    }
  },
  "cells": [
    {
      "cell_type": "code",
      "execution_count": 1,
      "metadata": {
        "id": "SKTUC_FC3LpL"
      },
      "outputs": [],
      "source": [
        "from __future__ import print_function, division\n",
        "from builtins import range, input"
      ]
    },
    {
      "cell_type": "code",
      "source": [
        "import numpy as np\n",
        "import pandas as pd\n",
        "import matplotlib.pyplot as plt\n",
        "from sklearn.utils import shuffle\n",
        "from scipy.sparse import lil_matrix, csr_matrix, save_npz, load_npz"
      ],
      "metadata": {
        "id": "CtVnTPar3n2A"
      },
      "execution_count": 2,
      "outputs": []
    },
    {
      "cell_type": "code",
      "source": [
        "# load in the data\n",
        "df = pd.read_csv('/content/drive/MyDrive/Recommender_Systems/small_rating.csv')"
      ],
      "metadata": {
        "id": "zM_BBUKx3qD8"
      },
      "execution_count": 3,
      "outputs": []
    },
    {
      "cell_type": "code",
      "source": [
        "N = df.userId.max() + 1 # number of users\n",
        "M = df.movie_idx.max() + 1 # number of movies"
      ],
      "metadata": {
        "id": "sEFMx6P03zBG"
      },
      "execution_count": 4,
      "outputs": []
    },
    {
      "cell_type": "code",
      "source": [
        "# split into train and test\n",
        "df = shuffle(df)\n",
        "cutoff = int(0.8*len(df))\n",
        "df_train = df.iloc[:cutoff]\n",
        "df_test = df.iloc[cutoff:]"
      ],
      "metadata": {
        "id": "WHei1kcl33AF"
      },
      "execution_count": 5,
      "outputs": []
    },
    {
      "cell_type": "code",
      "source": [
        "A = lil_matrix((N, M))\n",
        "print(\"Calling: update_train\")\n",
        "count = 0\n",
        "def update_train(row):\n",
        "  global count\n",
        "  count += 1\n",
        "  if count % 100000 == 0:\n",
        "    print(\"processed: %.3f\" % (float(count)/cutoff))\n",
        "\n",
        "  i = int(row.userId)\n",
        "  j = int(row.movie_idx)\n",
        "  A[i,j] = row.rating\n",
        "df_train.apply(update_train, axis=1)"
      ],
      "metadata": {
        "colab": {
          "base_uri": "https://localhost:8080/"
        },
        "id": "MdoiXwu635Zj",
        "outputId": "93f758c2-5330-4fb3-b168-546fb18bfb3c"
      },
      "execution_count": 6,
      "outputs": [
        {
          "output_type": "stream",
          "name": "stdout",
          "text": [
            "Calling: update_train\n",
            "processed: 0.023\n",
            "processed: 0.046\n",
            "processed: 0.070\n",
            "processed: 0.093\n",
            "processed: 0.116\n",
            "processed: 0.139\n",
            "processed: 0.162\n",
            "processed: 0.185\n",
            "processed: 0.209\n",
            "processed: 0.232\n",
            "processed: 0.255\n",
            "processed: 0.278\n",
            "processed: 0.301\n",
            "processed: 0.325\n",
            "processed: 0.348\n",
            "processed: 0.371\n",
            "processed: 0.394\n",
            "processed: 0.417\n",
            "processed: 0.440\n",
            "processed: 0.464\n",
            "processed: 0.487\n",
            "processed: 0.510\n",
            "processed: 0.533\n",
            "processed: 0.556\n",
            "processed: 0.580\n",
            "processed: 0.603\n",
            "processed: 0.626\n",
            "processed: 0.649\n",
            "processed: 0.672\n",
            "processed: 0.695\n",
            "processed: 0.719\n",
            "processed: 0.742\n",
            "processed: 0.765\n",
            "processed: 0.788\n",
            "processed: 0.811\n",
            "processed: 0.835\n",
            "processed: 0.858\n",
            "processed: 0.881\n",
            "processed: 0.904\n",
            "processed: 0.927\n",
            "processed: 0.950\n",
            "processed: 0.974\n",
            "processed: 0.997\n"
          ]
        },
        {
          "output_type": "execute_result",
          "data": {
            "text/plain": [
              "4320407    None\n",
              "2182230    None\n",
              "2577434    None\n",
              "2017406    None\n",
              "4089926    None\n",
              "           ... \n",
              "1268678    None\n",
              "1610232    None\n",
              "82325      None\n",
              "3276103    None\n",
              "2318821    None\n",
              "Length: 4313620, dtype: object"
            ]
          },
          "metadata": {},
          "execution_count": 6
        }
      ]
    },
    {
      "cell_type": "code",
      "source": [
        "# mask, to tell us which entries exist and which do not\n",
        "A = A.tocsr()\n",
        "mask = (A > 0)\n",
        "save_npz(\"Atrain.npz\", A)"
      ],
      "metadata": {
        "id": "8FoWgOZH5YmI"
      },
      "execution_count": 7,
      "outputs": []
    },
    {
      "cell_type": "code",
      "source": [
        "# test ratings dictionary\n",
        "A_test = lil_matrix((N, M))\n",
        "print(\"Calling: update_test\")\n",
        "count = 0\n",
        "def update_test(row):\n",
        "  global count\n",
        "  count += 1\n",
        "  if count % 100000 == 0:\n",
        "    print(\"processed: %.3f\" % (float(count)/len(df_test)))\n",
        "\n",
        "  i = int(row.userId)\n",
        "  j = int(row.movie_idx)\n",
        "  A_test[i,j] = row.rating\n",
        "df_test.apply(update_test, axis=1)\n",
        "A_test = A_test.tocsr()\n",
        "mask_test = (A_test > 0)\n",
        "save_npz(\"Atest.npz\", A_test)"
      ],
      "metadata": {
        "colab": {
          "base_uri": "https://localhost:8080/"
        },
        "id": "hxRM58946Ahz",
        "outputId": "48a3617c-455d-4c9b-cedc-a0b8176836ac"
      },
      "execution_count": 9,
      "outputs": [
        {
          "output_type": "stream",
          "name": "stdout",
          "text": [
            "Calling: update_test\n",
            "processed: 0.093\n",
            "processed: 0.185\n",
            "processed: 0.278\n",
            "processed: 0.371\n",
            "processed: 0.464\n",
            "processed: 0.556\n",
            "processed: 0.649\n",
            "processed: 0.742\n",
            "processed: 0.835\n",
            "processed: 0.927\n"
          ]
        }
      ]
    },
    {
      "cell_type": "code",
      "source": [
        "from __future__ import print_function, division\n",
        "from builtins import range\n",
        "# Note: you may need to update your version of future\n",
        "# sudo pip install -U future\n",
        "\n",
        "import numpy as np\n",
        "import pandas as pd\n",
        "import matplotlib.pyplot as plt\n",
        "from sklearn.utils import shuffle\n",
        "from scipy.sparse import save_npz, load_npz\n",
        "\n",
        "import keras.backend as K\n",
        "from keras.models import Model\n",
        "from keras.layers import Input, Dropout, Dense\n",
        "from keras.regularizers import l2\n",
        "from tensorflow.keras.optimizers import SGD"
      ],
      "metadata": {
        "id": "y49imVjv6chT"
      },
      "execution_count": 12,
      "outputs": []
    },
    {
      "cell_type": "code",
      "source": [
        "# config\n",
        "batch_size = 128\n",
        "epochs = 20\n",
        "reg = 0.0001\n",
        "# reg = 0"
      ],
      "metadata": {
        "id": "QfTjGtKA6pMx"
      },
      "execution_count": 13,
      "outputs": []
    },
    {
      "cell_type": "code",
      "source": [
        "A = load_npz(\"Atrain.npz\")\n",
        "A_test = load_npz(\"Atest.npz\")\n",
        "mask = (A > 0) * 1.0\n",
        "mask_test = (A_test > 0) * 1.0"
      ],
      "metadata": {
        "id": "POPbOkA96vFV"
      },
      "execution_count": 14,
      "outputs": []
    },
    {
      "cell_type": "code",
      "source": [
        "# make copies since we will shuffle\n",
        "A_copy = A.copy()\n",
        "mask_copy = mask.copy()\n",
        "A_test_copy = A_test.copy()\n",
        "mask_test_copy = mask_test.copy()"
      ],
      "metadata": {
        "id": "hcBec0gM6z_s"
      },
      "execution_count": 15,
      "outputs": []
    },
    {
      "cell_type": "code",
      "source": [
        "N, M = A.shape\n",
        "print(\"N:\", N, \"M:\", M)\n",
        "print(\"N // batch_size:\", N // batch_size)"
      ],
      "metadata": {
        "colab": {
          "base_uri": "https://localhost:8080/"
        },
        "id": "mee2gprq65pv",
        "outputId": "1da08afa-b6c8-4281-f025-a54f77e6dbf1"
      },
      "execution_count": 16,
      "outputs": [
        {
          "output_type": "stream",
          "name": "stdout",
          "text": [
            "N: 10000 M: 2000\n",
            "N // batch_size: 78\n"
          ]
        }
      ]
    },
    {
      "cell_type": "code",
      "source": [
        "# center the data\n",
        "mu = A.sum() / mask.sum()\n",
        "print(\"mu:\", mu)"
      ],
      "metadata": {
        "colab": {
          "base_uri": "https://localhost:8080/"
        },
        "id": "2EaCua3e69Bz",
        "outputId": "43471e2a-b52b-44ad-9767-fae46a586b1a"
      },
      "execution_count": 17,
      "outputs": [
        {
          "output_type": "stream",
          "name": "stdout",
          "text": [
            "mu: 3.448852240113872\n"
          ]
        }
      ]
    },
    {
      "cell_type": "code",
      "source": [
        "# build the model - just a 1 hidden layer autoencoder\n",
        "i = Input(shape=(M,))\n",
        "# bigger hidden layer size seems to help!\n",
        "x = Dropout(0.7)(i)\n",
        "x = Dense(700, activation='tanh', kernel_regularizer=l2(reg))(x)\n",
        "# x = Dropout(0.5)(x)\n",
        "x = Dense(M, kernel_regularizer=l2(reg))(x)"
      ],
      "metadata": {
        "id": "vlBEpu-N7DBv"
      },
      "execution_count": 18,
      "outputs": []
    },
    {
      "cell_type": "code",
      "source": [
        "def custom_loss(y_true, y_pred):\n",
        "  mask = K.cast(K.not_equal(y_true, 0), dtype='float32')\n",
        "  diff = y_pred - y_true\n",
        "  sqdiff = diff * diff * mask\n",
        "  sse = K.sum(K.sum(sqdiff))\n",
        "  n = K.sum(K.sum(mask))\n",
        "  return sse / n"
      ],
      "metadata": {
        "id": "W00t5P5c7K0s"
      },
      "execution_count": 19,
      "outputs": []
    },
    {
      "cell_type": "code",
      "source": [
        "def generator(A, M):\n",
        "  while True:\n",
        "    A, M = shuffle(A, M)\n",
        "    for i in range(A.shape[0] // batch_size + 1):\n",
        "      upper = min((i+1)*batch_size, A.shape[0])\n",
        "      a = A[i*batch_size:upper].toarray()\n",
        "      m = M[i*batch_size:upper].toarray()\n",
        "      a = a - mu * m # must keep zeros at zero!\n",
        "      # m2 = (np.random.random(a.shape) > 0.5)\n",
        "      # noisy = a * m2\n",
        "      noisy = a # no noise\n",
        "      yield noisy, a"
      ],
      "metadata": {
        "id": "p1iyMk-07Q6U"
      },
      "execution_count": 20,
      "outputs": []
    },
    {
      "cell_type": "code",
      "source": [
        "def test_generator(A, M, A_test, M_test):\n",
        "  # assumes A and A_test are in corresponding order\n",
        "  # both of size N x M\n",
        "  while True:\n",
        "    for i in range(A.shape[0] // batch_size + 1):\n",
        "      upper = min((i+1)*batch_size, A.shape[0])\n",
        "      a = A[i*batch_size:upper].toarray()\n",
        "      m = M[i*batch_size:upper].toarray()\n",
        "      at = A_test[i*batch_size:upper].toarray()\n",
        "      mt = M_test[i*batch_size:upper].toarray()\n",
        "      a = a - mu * m\n",
        "      at = at - mu * mt\n",
        "      yield a, at"
      ],
      "metadata": {
        "id": "dbDsNkDv7X7U"
      },
      "execution_count": 21,
      "outputs": []
    },
    {
      "cell_type": "code",
      "source": [
        "model = Model(i, x)\n",
        "model.compile(\n",
        "  loss=custom_loss,\n",
        "  optimizer=SGD(lr=0.08, momentum=0.9),\n",
        "  # optimizer='adam',\n",
        "  metrics=[custom_loss],\n",
        ")"
      ],
      "metadata": {
        "colab": {
          "base_uri": "https://localhost:8080/"
        },
        "id": "K21FOwEv7a20",
        "outputId": "84f1e3b2-4381-4399-d5d8-eca9b38a9605"
      },
      "execution_count": 22,
      "outputs": [
        {
          "output_type": "stream",
          "name": "stderr",
          "text": [
            "/usr/local/lib/python3.7/dist-packages/keras/optimizer_v2/gradient_descent.py:102: UserWarning: The `lr` argument is deprecated, use `learning_rate` instead.\n",
            "  super(SGD, self).__init__(name, **kwargs)\n"
          ]
        }
      ]
    },
    {
      "cell_type": "code",
      "source": [
        "r = model.fit(\n",
        "  generator(A, mask),\n",
        "  validation_data=test_generator(A_copy, mask_copy, A_test_copy, mask_test_copy),\n",
        "  epochs=epochs,\n",
        "  steps_per_epoch=A.shape[0] // batch_size + 1,\n",
        "  validation_steps=A_test.shape[0] // batch_size + 1,\n",
        ")\n",
        "print(r.history.keys())\n"
      ],
      "metadata": {
        "colab": {
          "base_uri": "https://localhost:8080/"
        },
        "id": "3q4Ekpcz7duC",
        "outputId": "8ff12c19-b061-47d3-e528-9c7da5db2c29"
      },
      "execution_count": 23,
      "outputs": [
        {
          "output_type": "stream",
          "name": "stdout",
          "text": [
            "Epoch 1/20\n",
            "79/79 [==============================] - 5s 51ms/step - loss: 1.1871 - custom_loss: 0.9813 - val_loss: 0.9291 - val_custom_loss: 0.7301\n",
            "Epoch 2/20\n",
            "79/79 [==============================] - 4s 50ms/step - loss: 0.9489 - custom_loss: 0.7544 - val_loss: 0.8735 - val_custom_loss: 0.6832\n",
            "Epoch 3/20\n",
            "79/79 [==============================] - 4s 49ms/step - loss: 0.8871 - custom_loss: 0.6998 - val_loss: 0.8411 - val_custom_loss: 0.6586\n",
            "Epoch 4/20\n",
            "79/79 [==============================] - 4s 49ms/step - loss: 0.8437 - custom_loss: 0.6639 - val_loss: 0.8175 - val_custom_loss: 0.6418\n",
            "Epoch 5/20\n",
            "79/79 [==============================] - 4s 49ms/step - loss: 0.8112 - custom_loss: 0.6381 - val_loss: 0.7992 - val_custom_loss: 0.6298\n",
            "Epoch 6/20\n",
            "79/79 [==============================] - 4s 49ms/step - loss: 0.7850 - custom_loss: 0.6208 - val_loss: 0.7841 - val_custom_loss: 0.6203\n",
            "Epoch 7/20\n",
            "79/79 [==============================] - 4s 49ms/step - loss: 0.7636 - custom_loss: 0.6019 - val_loss: 0.7713 - val_custom_loss: 0.6127\n",
            "Epoch 8/20\n",
            "79/79 [==============================] - 4s 48ms/step - loss: 0.7452 - custom_loss: 0.5883 - val_loss: 0.7604 - val_custom_loss: 0.6068\n",
            "Epoch 9/20\n",
            "79/79 [==============================] - 4s 48ms/step - loss: 0.7287 - custom_loss: 0.5767 - val_loss: 0.7507 - val_custom_loss: 0.6017\n",
            "Epoch 10/20\n",
            "79/79 [==============================] - 4s 49ms/step - loss: 0.7138 - custom_loss: 0.5688 - val_loss: 0.7418 - val_custom_loss: 0.5971\n",
            "Epoch 11/20\n",
            "79/79 [==============================] - 4s 49ms/step - loss: 0.7015 - custom_loss: 0.5586 - val_loss: 0.7339 - val_custom_loss: 0.5934\n",
            "Epoch 12/20\n",
            "79/79 [==============================] - 4s 49ms/step - loss: 0.6905 - custom_loss: 0.5526 - val_loss: 0.7267 - val_custom_loss: 0.5901\n",
            "Epoch 13/20\n",
            "79/79 [==============================] - 4s 49ms/step - loss: 0.6792 - custom_loss: 0.5453 - val_loss: 0.7197 - val_custom_loss: 0.5868\n",
            "Epoch 14/20\n",
            "79/79 [==============================] - 4s 49ms/step - loss: 0.6693 - custom_loss: 0.5373 - val_loss: 0.7135 - val_custom_loss: 0.5841\n",
            "Epoch 15/20\n",
            "79/79 [==============================] - 4s 49ms/step - loss: 0.6600 - custom_loss: 0.5313 - val_loss: 0.7077 - val_custom_loss: 0.5816\n",
            "Epoch 16/20\n",
            "79/79 [==============================] - 4s 49ms/step - loss: 0.6511 - custom_loss: 0.5267 - val_loss: 0.7022 - val_custom_loss: 0.5793\n",
            "Epoch 17/20\n",
            "79/79 [==============================] - 4s 57ms/step - loss: 0.6430 - custom_loss: 0.5220 - val_loss: 0.6973 - val_custom_loss: 0.5775\n",
            "Epoch 18/20\n",
            "79/79 [==============================] - 4s 49ms/step - loss: 0.6352 - custom_loss: 0.5169 - val_loss: 0.6925 - val_custom_loss: 0.5756\n",
            "Epoch 19/20\n",
            "79/79 [==============================] - 4s 49ms/step - loss: 0.6285 - custom_loss: 0.5126 - val_loss: 0.6882 - val_custom_loss: 0.5741\n",
            "Epoch 20/20\n",
            "79/79 [==============================] - 4s 49ms/step - loss: 0.6218 - custom_loss: 0.5085 - val_loss: 0.6840 - val_custom_loss: 0.5725\n",
            "dict_keys(['loss', 'custom_loss', 'val_loss', 'val_custom_loss'])\n"
          ]
        }
      ]
    },
    {
      "cell_type": "code",
      "source": [
        "# plot losses\n",
        "plt.plot(r.history['loss'], label=\"train loss\")\n",
        "plt.plot(r.history['val_loss'], label=\"test loss\")\n",
        "plt.legend()\n",
        "plt.show()\n"
      ],
      "metadata": {
        "colab": {
          "base_uri": "https://localhost:8080/",
          "height": 265
        },
        "id": "QDIu2mWy7gql",
        "outputId": "0e527b62-b9cf-4228-9375-e13d11322419"
      },
      "execution_count": 24,
      "outputs": [
        {
          "output_type": "display_data",
          "data": {
            "text/plain": [
              "<Figure size 432x288 with 1 Axes>"
            ],
            "image/png": "[encoded data removed]"
          },
          "metadata": {
            "needs_background": "light"
          }
        }
      ]
    },
    {
      "cell_type": "code",
      "source": [
        "# plot mse\n",
        "plt.plot(r.history['custom_loss'], label=\"train mse\")\n",
        "plt.plot(r.history['val_custom_loss'], label=\"test mse\")\n",
        "plt.legend()\n",
        "plt.show()"
      ],
      "metadata": {
        "colab": {
          "base_uri": "https://localhost:8080/",
          "height": 267
        },
        "id": "pU1To30U-SVj",
        "outputId": "e60bf92d-24d6-41b4-d0be-bfd482d910ab"
      },
      "execution_count": 25,
      "outputs": [
        {
          "output_type": "display_data",
          "data": {
            "text/plain": [
              "<Figure size 432x288 with 1 Axes>"
            ],
            "image/png": "[encoded data removed]"
          },
          "metadata": {
            "needs_background": "light"
          }
        }
      ]
    }
  ]
}