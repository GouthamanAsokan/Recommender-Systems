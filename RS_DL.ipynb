{
  "nbformat": 4,
  "nbformat_minor": 0,
  "metadata": {
    "colab": {
      "provenance": []
    },
    "kernelspec": {
      "name": "python3",
      "display_name": "Python 3"
    },
    "language_info": {
      "name": "python"
    },
    "accelerator": "GPU"
  },
  "cells": [
    {
      "cell_type": "code",
      "execution_count": 2,
      "metadata": {
        "id": "ZN9X1tLyxMmf"
      },
      "outputs": [],
      "source": [
        "from __future__ import print_function, division\n",
        "from builtins import range, input\n",
        "# Note: you may need to update your version of future\n",
        "# sudo pip install -U future\n",
        "\n",
        "import pickle\n",
        "import numpy as np\n",
        "import pandas as pd\n",
        "import matplotlib.pyplot as plt\n",
        "from sklearn.utils import shuffle\n",
        "\n",
        "from keras.models import Model\n",
        "from keras.layers import Input, Embedding, Flatten, Dense, Concatenate\n",
        "from keras.layers import Dropout, BatchNormalization, Activation\n",
        "from keras.regularizers import l2\n",
        "from tensorflow.keras.optimizers import SGD, Adam"
      ]
    },
    {
      "cell_type": "code",
      "source": [
        "# load in the data\n",
        "df = pd.read_csv('/content/drive/MyDrive/Recommender_Systems/small_rating.csv')"
      ],
      "metadata": {
        "id": "X4eZkdRVxd32"
      },
      "execution_count": 3,
      "outputs": []
    },
    {
      "cell_type": "code",
      "source": [
        "N = df.userId.max() + 1 # number of users\n",
        "M = df.movie_idx.max() + 1 # number of movies\n"
      ],
      "metadata": {
        "id": "2oRLq8qmxwiN"
      },
      "execution_count": 4,
      "outputs": []
    },
    {
      "cell_type": "code",
      "source": [
        "# split into train and test\n",
        "df = shuffle(df)\n",
        "cutoff = int(0.8*len(df))\n",
        "df_train = df.iloc[:cutoff]\n",
        "df_test = df.iloc[cutoff:]"
      ],
      "metadata": {
        "id": "IhZfkPTtx2WP"
      },
      "execution_count": 5,
      "outputs": []
    },
    {
      "cell_type": "code",
      "source": [
        "# initialize variables\n",
        "K = 10 # latent dimensionality\n",
        "mu = df_train.rating.mean()\n",
        "epochs = 15\n",
        "# reg = 0.0001 # regularization penalty"
      ],
      "metadata": {
        "id": "RdwHZbg8x42I"
      },
      "execution_count": 6,
      "outputs": []
    },
    {
      "cell_type": "code",
      "source": [
        "# keras model\n",
        "u = Input(shape=(1,))\n",
        "m = Input(shape=(1,))\n",
        "u_embedding = Embedding(N, K)(u) # (N, 1, K)\n",
        "m_embedding = Embedding(M, K)(m) # (N, 1, K)\n",
        "u_embedding = Flatten()(u_embedding) # (N, K)\n",
        "m_embedding = Flatten()(m_embedding) # (N, K)\n",
        "x = Concatenate()([u_embedding, m_embedding]) # (N, 2K)\n",
        "\n",
        "# the neural network\n",
        "x = Dense(400)(x)\n",
        "# x = BatchNormalization()(x)\n",
        "x = Activation('relu')(x)\n",
        "# x = Dropout(0.5)(x)\n",
        "# x = Dense(100)(x)\n",
        "# x = BatchNormalization()(x)\n",
        "# x = Activation('relu')(x)\n",
        "x = Dense(1)(x)"
      ],
      "metadata": {
        "id": "M_uVSWJNx7zb"
      },
      "execution_count": 7,
      "outputs": []
    },
    {
      "cell_type": "code",
      "source": [
        "model = Model(inputs=[u, m], outputs=x)\n",
        "model.compile(\n",
        "  loss='mse',\n",
        "  # optimizer='adam',\n",
        "  # optimizer=Adam(lr=0.01),\n",
        "  optimizer=SGD(lr=0.08, momentum=0.9),\n",
        "  metrics=['mse'],\n",
        ")"
      ],
      "metadata": {
        "colab": {
          "base_uri": "https://localhost:8080/"
        },
        "id": "XuMNKBcsyMOX",
        "outputId": "19e70a5c-af45-466e-b9d3-00ec92366291"
      },
      "execution_count": 8,
      "outputs": [
        {
          "output_type": "stream",
          "name": "stderr",
          "text": [
            "/usr/local/lib/python3.7/dist-packages/keras/optimizer_v2/gradient_descent.py:102: UserWarning: The `lr` argument is deprecated, use `learning_rate` instead.\n",
            "  super(SGD, self).__init__(name, **kwargs)\n"
          ]
        }
      ]
    },
    {
      "cell_type": "code",
      "source": [
        "r = model.fit(\n",
        "  x=[df_train.userId.values, df_train.movie_idx.values],\n",
        "  y=df_train.rating.values - mu,\n",
        "  epochs=epochs,\n",
        "  batch_size=128,\n",
        "  validation_data=(\n",
        "    [df_test.userId.values, df_test.movie_idx.values],\n",
        "    df_test.rating.values - mu\n",
        "  )\n",
        ")"
      ],
      "metadata": {
        "colab": {
          "base_uri": "https://localhost:8080/"
        },
        "id": "aI_aSaF-yRxr",
        "outputId": "25622ddc-1195-4f35-c234-3f27636fff5f"
      },
      "execution_count": 9,
      "outputs": [
        {
          "output_type": "stream",
          "name": "stdout",
          "text": [
            "Epoch 1/15\n",
            "33701/33701 [==============================] - 132s 4ms/step - loss: 0.6729 - mse: 0.6729 - val_loss: 0.6449 - val_mse: 0.6449\n",
            "Epoch 2/15\n",
            "33701/33701 [==============================] - 120s 4ms/step - loss: 0.6324 - mse: 0.6324 - val_loss: 0.6206 - val_mse: 0.6206\n",
            "Epoch 3/15\n",
            "33701/33701 [==============================] - 127s 4ms/step - loss: 0.6169 - mse: 0.6169 - val_loss: 0.6127 - val_mse: 0.6127\n",
            "Epoch 4/15\n",
            "33701/33701 [==============================] - 119s 4ms/step - loss: 0.6041 - mse: 0.6041 - val_loss: 0.5949 - val_mse: 0.5949\n",
            "Epoch 5/15\n",
            "33701/33701 [==============================] - 118s 4ms/step - loss: 0.5941 - mse: 0.5941 - val_loss: 0.5957 - val_mse: 0.5957\n",
            "Epoch 6/15\n",
            "33701/33701 [==============================] - 127s 4ms/step - loss: 0.5873 - mse: 0.5873 - val_loss: 0.5857 - val_mse: 0.5857\n",
            "Epoch 7/15\n",
            "33701/33701 [==============================] - 118s 4ms/step - loss: 0.5798 - mse: 0.5798 - val_loss: 0.5820 - val_mse: 0.5820\n",
            "Epoch 8/15\n",
            "33701/33701 [==============================] - 118s 4ms/step - loss: 0.5731 - mse: 0.5731 - val_loss: 0.5771 - val_mse: 0.5771\n",
            "Epoch 9/15\n",
            "33701/33701 [==============================] - 118s 3ms/step - loss: 0.5674 - mse: 0.5674 - val_loss: 0.5772 - val_mse: 0.5772\n",
            "Epoch 10/15\n",
            "33701/33701 [==============================] - 118s 3ms/step - loss: 0.5624 - mse: 0.5624 - val_loss: 0.5826 - val_mse: 0.5826\n",
            "Epoch 11/15\n",
            "33701/33701 [==============================] - 126s 4ms/step - loss: 0.5581 - mse: 0.5581 - val_loss: 0.5746 - val_mse: 0.5746\n",
            "Epoch 12/15\n",
            "33701/33701 [==============================] - 117s 3ms/step - loss: 0.5552 - mse: 0.5552 - val_loss: 0.5690 - val_mse: 0.5690\n",
            "Epoch 13/15\n",
            "33701/33701 [==============================] - 126s 4ms/step - loss: 0.5533 - mse: 0.5533 - val_loss: 0.5675 - val_mse: 0.5675\n",
            "Epoch 14/15\n",
            "33701/33701 [==============================] - 123s 4ms/step - loss: 0.5518 - mse: 0.5518 - val_loss: 0.6023 - val_mse: 0.6023\n",
            "Epoch 15/15\n",
            "33701/33701 [==============================] - 122s 4ms/step - loss: 0.5504 - mse: 0.5504 - val_loss: 0.5743 - val_mse: 0.5743\n"
          ]
        }
      ]
    },
    {
      "cell_type": "code",
      "source": [
        "# plot losses\n",
        "plt.plot(r.history['loss'], label=\"train loss\")\n",
        "plt.plot(r.history['val_loss'], label=\"test loss\")\n",
        "plt.legend()\n",
        "plt.show()"
      ],
      "metadata": {
        "colab": {
          "base_uri": "https://localhost:8080/",
          "height": 265
        },
        "id": "LdItpvN3yUmT",
        "outputId": "0b52bab2-23c6-4721-8995-711a480b77fc"
      },
      "execution_count": 10,
      "outputs": [
        {
          "output_type": "display_data",
          "data": {
            "text/plain": [
              "<Figure size 432x288 with 1 Axes>"
            ],
            "image/png": "[encoded data removed]"
          },
          "metadata": {
            "needs_background": "light"
          }
        }
      ]
    }
  ]
}