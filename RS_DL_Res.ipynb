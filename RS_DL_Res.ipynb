{
  "nbformat": 4,
  "nbformat_minor": 0,
  "metadata": {
    "colab": {
      "provenance": []
    },
    "kernelspec": {
      "name": "python3",
      "display_name": "Python 3"
    },
    "language_info": {
      "name": "python"
    }
  },
  "cells": [
    {
      "cell_type": "code",
      "execution_count": 10,
      "metadata": {
        "id": "ESrmGqUZ7COq"
      },
      "outputs": [],
      "source": [
        "from __future__ import print_function, division\n",
        "from builtins import range, input"
      ]
    },
    {
      "cell_type": "code",
      "source": [
        "import pickle\n",
        "import numpy as np\n",
        "import pandas as pd\n",
        "import matplotlib.pyplot as plt\n",
        "from sklearn.utils import shuffle\n",
        "\n",
        "from keras.models import Model\n",
        "from keras.layers import Input, Embedding, Dot, Add, Flatten, Dense, Concatenate\n",
        "from keras.layers import Dropout, BatchNormalization, Activation\n",
        "from keras.regularizers import l2\n",
        "from tensorflow.keras.optimizers import SGD, Adam"
      ],
      "metadata": {
        "id": "34q7znib7M_s"
      },
      "execution_count": 11,
      "outputs": []
    },
    {
      "cell_type": "code",
      "source": [
        "# load in the data\n",
        "df = pd.read_csv('/content/drive/MyDrive/Recommender_Systems/small_rating.csv')"
      ],
      "metadata": {
        "id": "5iD9HbnS7TH_"
      },
      "execution_count": 12,
      "outputs": []
    },
    {
      "cell_type": "code",
      "source": [
        "N = df.userId.max() + 1 # number of users\n",
        "M = df.movie_idx.max() + 1 # number of movies"
      ],
      "metadata": {
        "id": "lADBGVuK7Z4M"
      },
      "execution_count": 13,
      "outputs": []
    },
    {
      "cell_type": "code",
      "source": [
        "# split into train and test\n",
        "df = shuffle(df)\n",
        "cutoff = int(0.8*len(df))\n",
        "df_train = df.iloc[:cutoff]\n",
        "df_test = df.iloc[cutoff:]"
      ],
      "metadata": {
        "id": "INajvc2r7dQs"
      },
      "execution_count": 14,
      "outputs": []
    },
    {
      "cell_type": "code",
      "source": [
        "# initialize variables\n",
        "K = 10 # latent dimensionality\n",
        "mu = df_train.rating.mean()\n",
        "epochs = 15\n",
        "reg = 0. # regularization penalty"
      ],
      "metadata": {
        "id": "_YI3v5ht7gUg"
      },
      "execution_count": 15,
      "outputs": []
    },
    {
      "cell_type": "code",
      "source": [
        "# keras model\n",
        "u = Input(shape=(1,))\n",
        "m = Input(shape=(1,))\n",
        "u_embedding = Embedding(N, K)(u) # (N, 1, K)\n",
        "m_embedding = Embedding(M, K)(m) # (N, 1, K)"
      ],
      "metadata": {
        "id": "MkNJatD37jk6"
      },
      "execution_count": 16,
      "outputs": []
    },
    {
      "cell_type": "code",
      "source": [
        "##### main branch\n",
        "u_bias = Embedding(N, 1)(u) # (N, 1, 1)\n",
        "m_bias = Embedding(M, 1)(m) # (N, 1, 1)\n",
        "x = Dot(axes=2)([u_embedding, m_embedding]) # (N, 1, 1)\n",
        "x = Add()([x, u_bias, m_bias])\n",
        "x = Flatten()(x) # (N, 1)"
      ],
      "metadata": {
        "id": "mqyW9UfE7v07"
      },
      "execution_count": 17,
      "outputs": []
    },
    {
      "cell_type": "code",
      "source": [
        "##### side branch\n",
        "u_embedding = Flatten()(u_embedding) # (N, K)\n",
        "m_embedding = Flatten()(m_embedding) # (N, K)\n",
        "y = Concatenate()([u_embedding, m_embedding]) # (N, 2K)\n",
        "y = Dense(400)(y)\n",
        "y = Activation('elu')(y)\n",
        "# y = Dropout(0.5)(y)\n",
        "y = Dense(1)(y)"
      ],
      "metadata": {
        "id": "sMLhJHsK7nY-"
      },
      "execution_count": 18,
      "outputs": []
    },
    {
      "cell_type": "code",
      "source": [
        "##### merge\n",
        "x = Add()([x, y])"
      ],
      "metadata": {
        "id": "1WEOb75B7q81"
      },
      "execution_count": 19,
      "outputs": []
    },
    {
      "cell_type": "code",
      "source": [
        "model = Model(inputs=[u, m], outputs=x)\n",
        "model.compile(\n",
        "  loss='mse',\n",
        "  # optimizer='adam',\n",
        "  # optimizer=Adam(lr=0.01),\n",
        "  optimizer=SGD(lr=0.08, momentum=0.9),\n",
        "  metrics=['mse'],\n",
        ")"
      ],
      "metadata": {
        "colab": {
          "base_uri": "https://localhost:8080/"
        },
        "id": "poY3Agd_77mn",
        "outputId": "491eb575-3010-4aad-ab97-f7d9ea4800c1"
      },
      "execution_count": 20,
      "outputs": [
        {
          "output_type": "stream",
          "name": "stderr",
          "text": [
            "/usr/local/lib/python3.7/dist-packages/keras/optimizer_v2/gradient_descent.py:102: UserWarning: The `lr` argument is deprecated, use `learning_rate` instead.\n",
            "  super(SGD, self).__init__(name, **kwargs)\n"
          ]
        }
      ]
    },
    {
      "cell_type": "code",
      "source": [
        "r = model.fit(\n",
        "  x=[df_train.userId.values, df_train.movie_idx.values],\n",
        "  y=df_train.rating.values - mu,\n",
        "  epochs=epochs,\n",
        "  batch_size=128,\n",
        "  validation_data=(\n",
        "    [df_test.userId.values, df_test.movie_idx.values],\n",
        "    df_test.rating.values - mu\n",
        "  )\n",
        ")"
      ],
      "metadata": {
        "colab": {
          "base_uri": "https://localhost:8080/"
        },
        "id": "wWNne9eW7-EX",
        "outputId": "34594db6-bcef-43a5-91e2-1640807294fb"
      },
      "execution_count": 21,
      "outputs": [
        {
          "output_type": "stream",
          "name": "stdout",
          "text": [
            "Epoch 1/15\n",
            "33701/33701 [==============================] - 131s 4ms/step - loss: 0.6727 - mse: 0.6727 - val_loss: 0.6373 - val_mse: 0.6373\n",
            "Epoch 2/15\n",
            "33701/33701 [==============================] - 123s 4ms/step - loss: 0.6341 - mse: 0.6341 - val_loss: 0.6240 - val_mse: 0.6240\n",
            "Epoch 3/15\n",
            "33701/33701 [==============================] - 119s 4ms/step - loss: 0.6142 - mse: 0.6142 - val_loss: 0.6002 - val_mse: 0.6002\n",
            "Epoch 4/15\n",
            "33701/33701 [==============================] - 111s 3ms/step - loss: 0.5824 - mse: 0.5824 - val_loss: 0.5745 - val_mse: 0.5745\n",
            "Epoch 5/15\n",
            "33701/33701 [==============================] - 121s 4ms/step - loss: 0.5589 - mse: 0.5589 - val_loss: 0.5629 - val_mse: 0.5629\n",
            "Epoch 6/15\n",
            "33701/33701 [==============================] - 114s 3ms/step - loss: 0.5470 - mse: 0.5470 - val_loss: 0.5647 - val_mse: 0.5647\n",
            "Epoch 7/15\n",
            "33701/33701 [==============================] - 120s 4ms/step - loss: 0.5404 - mse: 0.5404 - val_loss: 0.5572 - val_mse: 0.5572\n",
            "Epoch 8/15\n",
            "33701/33701 [==============================] - 113s 3ms/step - loss: 0.5367 - mse: 0.5367 - val_loss: 0.5550 - val_mse: 0.5550\n",
            "Epoch 9/15\n",
            "33701/33701 [==============================] - 114s 3ms/step - loss: 0.5343 - mse: 0.5343 - val_loss: 0.5499 - val_mse: 0.5499\n",
            "Epoch 10/15\n",
            "33701/33701 [==============================] - 116s 3ms/step - loss: 0.5329 - mse: 0.5329 - val_loss: 0.5490 - val_mse: 0.5490\n",
            "Epoch 11/15\n",
            "33701/33701 [==============================] - 112s 3ms/step - loss: 0.5319 - mse: 0.5319 - val_loss: 0.5507 - val_mse: 0.5507\n",
            "Epoch 12/15\n",
            "33701/33701 [==============================] - 119s 4ms/step - loss: 0.5310 - mse: 0.5310 - val_loss: 0.5490 - val_mse: 0.5490\n",
            "Epoch 13/15\n",
            "33701/33701 [==============================] - 111s 3ms/step - loss: 0.5305 - mse: 0.5305 - val_loss: 0.5503 - val_mse: 0.5503\n",
            "Epoch 14/15\n",
            "33701/33701 [==============================] - 111s 3ms/step - loss: 0.5302 - mse: 0.5302 - val_loss: 0.5478 - val_mse: 0.5478\n",
            "Epoch 15/15\n",
            "33701/33701 [==============================] - 114s 3ms/step - loss: 0.5298 - mse: 0.5298 - val_loss: 0.5470 - val_mse: 0.5470\n"
          ]
        }
      ]
    },
    {
      "cell_type": "code",
      "source": [
        "# plot losses\n",
        "plt.plot(r.history['loss'], label=\"train loss\")\n",
        "plt.plot(r.history['val_loss'], label=\"test loss\")\n",
        "plt.legend()\n",
        "plt.show()"
      ],
      "metadata": {
        "colab": {
          "base_uri": "https://localhost:8080/",
          "height": 265
        },
        "id": "4HwDfo9g8AXp",
        "outputId": "709bb270-8fa8-4584-bd4a-a3bfbaf8a3f1"
      },
      "execution_count": 22,
      "outputs": [
        {
          "output_type": "display_data",
          "data": {
            "text/plain": [
              "<Figure size 432x288 with 1 Axes>"
            ],
            "image/png": "[encoded data removed]"
          },
          "metadata": {
            "needs_background": "light"
          }
        }
      ]
    }
  ]
}