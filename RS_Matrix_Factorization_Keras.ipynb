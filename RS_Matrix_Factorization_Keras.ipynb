{
  "nbformat": 4,
  "nbformat_minor": 0,
  "metadata": {
    "colab": {
      "provenance": []
    },
    "kernelspec": {
      "name": "python3",
      "display_name": "Python 3"
    },
    "language_info": {
      "name": "python"
    }
  },
  "cells": [
    {
      "cell_type": "code",
      "execution_count": 1,
      "metadata": {
        "id": "n1B0zDq0q5CJ"
      },
      "outputs": [],
      "source": [
        "from __future__ import print_function, division\n",
        "from builtins import range, input"
      ]
    },
    {
      "cell_type": "code",
      "source": [
        "import pickle\n",
        "import numpy as np\n",
        "import pandas as pd\n",
        "import matplotlib.pyplot as plt\n",
        "from sklearn.utils import shuffle\n",
        "\n",
        "from keras.models import Model\n",
        "from keras.layers import Input, Embedding, Dot, Add, Flatten\n",
        "from keras.regularizers import l2\n",
        "from tensorflow.keras.optimizers import SGD, Adam"
      ],
      "metadata": {
        "id": "CFOT0v_BrfKv"
      },
      "execution_count": 2,
      "outputs": []
    },
    {
      "cell_type": "code",
      "source": [
        "# load in the data\n",
        "df = pd.read_csv('/content/drive/MyDrive/Recommender_Systems/small_rating.csv')"
      ],
      "metadata": {
        "id": "AuJDds_frieB"
      },
      "execution_count": 3,
      "outputs": []
    },
    {
      "cell_type": "code",
      "source": [
        "df"
      ],
      "metadata": {
        "colab": {
          "base_uri": "https://localhost:8080/",
          "height": 424
        },
        "id": "QZefGZQhr3R1",
        "outputId": "7dff9c79-742a-4306-8577-eae7a186ba8e"
      },
      "execution_count": 4,
      "outputs": [
        {
          "output_type": "execute_result",
          "data": {
            "text/plain": [
              "         userId  movieId  rating  movie_idx\n",
              "0          7307        1     4.5         10\n",
              "1          7307       10     2.5         68\n",
              "2          7307       19     3.5        143\n",
              "3          7307       32     5.0         19\n",
              "4          7307       39     4.5         85\n",
              "...         ...      ...     ...        ...\n",
              "5392020    5442     4993     5.0         33\n",
              "5392021    5442     5349     3.0        115\n",
              "5392022    5442     5378     4.0        211\n",
              "5392023    5442     5449     4.0       1487\n",
              "5392024    5442     5459     4.0        473\n",
              "\n",
              "[5392025 rows x 4 columns]"
            ],
            "text/html": [
              "\n",
              "  <div id=\"df-74064cd0-cd39-42ba-840b-c720bd796552\">\n",
              "    <div class=\"colab-df-container\">\n",
              "      <div>\n",
              "<style scoped>\n",
              "    .dataframe tbody tr th:only-of-type {\n",
              "        vertical-align: middle;\n",
              "    }\n",
              "\n",
              "    .dataframe tbody tr th {\n",
              "        vertical-align: top;\n",
              "    }\n",
              "\n",
              "    .dataframe thead th {\n",
              "        text-align: right;\n",
              "    }\n",
              "</style>\n",
              "<table border=\"1\" class=\"dataframe\">\n",
              "  <thead>\n",
              "    <tr style=\"text-align: right;\">\n",
              "      <th></th>\n",
              "      <th>userId</th>\n",
              "      <th>movieId</th>\n",
              "      <th>rating</th>\n",
              "      <th>movie_idx</th>\n",
              "    </tr>\n",
              "  </thead>\n",
              "  <tbody>\n",
              "    <tr>\n",
              "      <th>0</th>\n",
              "      <td>7307</td>\n",
              "      <td>1</td>\n",
              "      <td>4.5</td>\n",
              "      <td>10</td>\n",
              "    </tr>\n",
              "    <tr>\n",
              "      <th>1</th>\n",
              "      <td>7307</td>\n",
              "      <td>10</td>\n",
              "      <td>2.5</td>\n",
              "      <td>68</td>\n",
              "    </tr>\n",
              "    <tr>\n",
              "      <th>2</th>\n",
              "      <td>7307</td>\n",
              "      <td>19</td>\n",
              "      <td>3.5</td>\n",
              "      <td>143</td>\n",
              "    </tr>\n",
              "    <tr>\n",
              "      <th>3</th>\n",
              "      <td>7307</td>\n",
              "      <td>32</td>\n",
              "      <td>5.0</td>\n",
              "      <td>19</td>\n",
              "    </tr>\n",
              "    <tr>\n",
              "      <th>4</th>\n",
              "      <td>7307</td>\n",
              "      <td>39</td>\n",
              "      <td>4.5</td>\n",
              "      <td>85</td>\n",
              "    </tr>\n",
              "    <tr>\n",
              "      <th>...</th>\n",
              "      <td>...</td>\n",
              "      <td>...</td>\n",
              "      <td>...</td>\n",
              "      <td>...</td>\n",
              "    </tr>\n",
              "    <tr>\n",
              "      <th>5392020</th>\n",
              "      <td>5442</td>\n",
              "      <td>4993</td>\n",
              "      <td>5.0</td>\n",
              "      <td>33</td>\n",
              "    </tr>\n",
              "    <tr>\n",
              "      <th>5392021</th>\n",
              "      <td>5442</td>\n",
              "      <td>5349</td>\n",
              "      <td>3.0</td>\n",
              "      <td>115</td>\n",
              "    </tr>\n",
              "    <tr>\n",
              "      <th>5392022</th>\n",
              "      <td>5442</td>\n",
              "      <td>5378</td>\n",
              "      <td>4.0</td>\n",
              "      <td>211</td>\n",
              "    </tr>\n",
              "    <tr>\n",
              "      <th>5392023</th>\n",
              "      <td>5442</td>\n",
              "      <td>5449</td>\n",
              "      <td>4.0</td>\n",
              "      <td>1487</td>\n",
              "    </tr>\n",
              "    <tr>\n",
              "      <th>5392024</th>\n",
              "      <td>5442</td>\n",
              "      <td>5459</td>\n",
              "      <td>4.0</td>\n",
              "      <td>473</td>\n",
              "    </tr>\n",
              "  </tbody>\n",
              "</table>\n",
              "<p>5392025 rows × 4 columns</p>\n",
              "</div>\n",
              "      <button class=\"colab-df-convert\" onclick=\"convertToInteractive('df-74064cd0-cd39-42ba-840b-c720bd796552')\"\n",
              "              title=\"Convert this dataframe to an interactive table.\"\n",
              "              style=\"display:none;\">\n",
              "        \n",
              "  <svg xmlns=\"http://www.w3.org/2000/svg\" height=\"24px\"viewBox=\"0 0 24 24\"\n",
              "       width=\"24px\">\n",
              "    <path d=\"M0 0h24v24H0V0z\" fill=\"none\"/>\n",
              "    <path d=\"M18.56 5.44l.94 2.06.94-2.06 2.06-.94-2.06-.94-.94-2.06-.94 2.06-2.06.94zm-11 1L8.5 8.5l.94-2.06 2.06-.94-2.06-.94L8.5 2.5l-.94 2.06-2.06.94zm10 10l.94 2.06.94-2.06 2.06-.94-2.06-.94-.94-2.06-.94 2.06-2.06.94z\"/><path d=\"M17.41 7.96l-1.37-1.37c-.4-.4-.92-.59-1.43-.59-.52 0-1.04.2-1.43.59L10.3 9.45l-7.72 7.72c-.78.78-.78 2.05 0 2.83L4 21.41c.39.39.9.59 1.41.59.51 0 1.02-.2 1.41-.59l7.78-7.78 2.81-2.81c.8-.78.8-2.07 0-2.86zM5.41 20L4 18.59l7.72-7.72 1.47 1.35L5.41 20z\"/>\n",
              "  </svg>\n",
              "      </button>\n",
              "      \n",
              "  <style>\n",
              "    .colab-df-container {\n",
              "      display:flex;\n",
              "      flex-wrap:wrap;\n",
              "      gap: 12px;\n",
              "    }\n",
              "\n",
              "    .colab-df-convert {\n",
              "      background-color: #E8F0FE;\n",
              "      border: none;\n",
              "      border-radius: 50%;\n",
              "      cursor: pointer;\n",
              "      display: none;\n",
              "      fill: #1967D2;\n",
              "      height: 32px;\n",
              "      padding: 0 0 0 0;\n",
              "      width: 32px;\n",
              "    }\n",
              "\n",
              "    .colab-df-convert:hover {\n",
              "      background-color: #E2EBFA;\n",
              "      box-shadow: 0px 1px 2px rgba(60, 64, 67, 0.3), 0px 1px 3px 1px rgba(60, 64, 67, 0.15);\n",
              "      fill: #174EA6;\n",
              "    }\n",
              "\n",
              "    [theme=dark] .colab-df-convert {\n",
              "      background-color: #3B4455;\n",
              "      fill: #D2E3FC;\n",
              "    }\n",
              "\n",
              "    [theme=dark] .colab-df-convert:hover {\n",
              "      background-color: #434B5C;\n",
              "      box-shadow: 0px 1px 3px 1px rgba(0, 0, 0, 0.15);\n",
              "      filter: drop-shadow(0px 1px 2px rgba(0, 0, 0, 0.3));\n",
              "      fill: #FFFFFF;\n",
              "    }\n",
              "  </style>\n",
              "\n",
              "      <script>\n",
              "        const buttonEl =\n",
              "          document.querySelector('#df-74064cd0-cd39-42ba-840b-c720bd796552 button.colab-df-convert');\n",
              "        buttonEl.style.display =\n",
              "          google.colab.kernel.accessAllowed ? 'block' : 'none';\n",
              "\n",
              "        async function convertToInteractive(key) {\n",
              "          const element = document.querySelector('#df-74064cd0-cd39-42ba-840b-c720bd796552');\n",
              "          const dataTable =\n",
              "            await google.colab.kernel.invokeFunction('convertToInteractive',\n",
              "                                                     [key], {});\n",
              "          if (!dataTable) return;\n",
              "\n",
              "          const docLinkHtml = 'Like what you see? Visit the ' +\n",
              "            '<a target=\"_blank\" href=https://colab.research.google.com/notebooks/data_table.ipynb>data table notebook</a>'\n",
              "            + ' to learn more about interactive tables.';\n",
              "          element.innerHTML = '';\n",
              "          dataTable['output_type'] = 'display_data';\n",
              "          await google.colab.output.renderOutput(dataTable, element);\n",
              "          const docLink = document.createElement('div');\n",
              "          docLink.innerHTML = docLinkHtml;\n",
              "          element.appendChild(docLink);\n",
              "        }\n",
              "      </script>\n",
              "    </div>\n",
              "  </div>\n",
              "  "
            ]
          },
          "metadata": {},
          "execution_count": 4
        }
      ]
    },
    {
      "cell_type": "code",
      "source": [
        "N = df.userId.max() + 1 # number of users\n",
        "M = df.movie_idx.max() + 1 # number of movies"
      ],
      "metadata": {
        "id": "_01PLZuar4w2"
      },
      "execution_count": 5,
      "outputs": []
    },
    {
      "cell_type": "code",
      "source": [
        "# split into train and test\n",
        "df = shuffle(df)\n",
        "cutoff = int(0.8*len(df))\n",
        "df_train = df.iloc[:cutoff]\n",
        "df_test = df.iloc[cutoff:]"
      ],
      "metadata": {
        "id": "xMdY9afasLuF"
      },
      "execution_count": 6,
      "outputs": []
    },
    {
      "cell_type": "code",
      "source": [
        "# initialize variables\n",
        "K = 10 # latent dimensionality\n",
        "mu = df_train.rating.mean()\n",
        "epochs = 15\n",
        "reg = 0. # regularization penalty"
      ],
      "metadata": {
        "id": "lgbhlqPbsRN9"
      },
      "execution_count": 7,
      "outputs": []
    },
    {
      "cell_type": "code",
      "source": [
        "# keras model\n",
        "u = Input(shape=(1,))\n",
        "m = Input(shape=(1,))\n",
        "u_embedding = Embedding(N, K, embeddings_regularizer=l2(reg))(u) # (N, 1, K)\n",
        "m_embedding = Embedding(M, K, embeddings_regularizer=l2(reg))(m) # (N, 1, K)"
      ],
      "metadata": {
        "id": "MBTylzDHsVzY"
      },
      "execution_count": 8,
      "outputs": []
    },
    {
      "cell_type": "code",
      "source": [
        "u_bias = Embedding(N, 1, embeddings_regularizer=l2(reg))(u) # (N, 1, 1)\n",
        "m_bias = Embedding(M, 1, embeddings_regularizer=l2(reg))(m) # (N, 1, 1)\n",
        "x = Dot(axes=2)([u_embedding, m_embedding]) # (N, 1, 1)"
      ],
      "metadata": {
        "id": "Il9Fke2-t6TR"
      },
      "execution_count": 9,
      "outputs": []
    },
    {
      "cell_type": "code",
      "source": [
        "x = Add()([x, u_bias, m_bias])\n",
        "x = Flatten()(x) # (N, 1)"
      ],
      "metadata": {
        "id": "IybMacbDuSBy"
      },
      "execution_count": 10,
      "outputs": []
    },
    {
      "cell_type": "code",
      "source": [
        "model = Model(inputs=[u, m], outputs=x)\n",
        "model.compile(\n",
        "  loss='mse',\n",
        "  # optimizer='adam',\n",
        "  # optimizer=Adam(lr=0.01),\n",
        "  optimizer=SGD(lr=0.08, momentum=0.9),\n",
        "  metrics=['mse'],\n",
        ")"
      ],
      "metadata": {
        "colab": {
          "base_uri": "https://localhost:8080/"
        },
        "id": "2-3U_lyiuVQC",
        "outputId": "d97b1c53-dbb4-49f0-d9f9-9f02bc8b4fc9"
      },
      "execution_count": 11,
      "outputs": [
        {
          "output_type": "stream",
          "name": "stderr",
          "text": [
            "/usr/local/lib/python3.7/dist-packages/keras/optimizer_v2/gradient_descent.py:102: UserWarning: The `lr` argument is deprecated, use `learning_rate` instead.\n",
            "  super(SGD, self).__init__(name, **kwargs)\n"
          ]
        }
      ]
    },
    {
      "cell_type": "code",
      "source": [
        "r = model.fit(\n",
        "  x=[df_train.userId.values, df_train.movie_idx.values],\n",
        "  y=df_train.rating.values - mu,\n",
        "  epochs=epochs,\n",
        "  batch_size=128,\n",
        "  validation_data=(\n",
        "    [df_test.userId.values, df_test.movie_idx.values],\n",
        "    df_test.rating.values - mu\n",
        "  )\n",
        ")"
      ],
      "metadata": {
        "colab": {
          "base_uri": "https://localhost:8080/"
        },
        "id": "-WmgpBVNugIX",
        "outputId": "d94c82d4-e952-4659-e320-d947d9b11050"
      },
      "execution_count": 12,
      "outputs": [
        {
          "output_type": "stream",
          "name": "stdout",
          "text": [
            "Epoch 1/15\n",
            "33701/33701 [==============================] - 96s 3ms/step - loss: 0.6956 - mse: 0.6956 - val_loss: 0.6777 - val_mse: 0.6777\n",
            "Epoch 2/15\n",
            "33701/33701 [==============================] - 91s 3ms/step - loss: 0.6662 - mse: 0.6662 - val_loss: 0.6437 - val_mse: 0.6437\n",
            "Epoch 3/15\n",
            "33701/33701 [==============================] - 90s 3ms/step - loss: 0.6168 - mse: 0.6168 - val_loss: 0.5977 - val_mse: 0.5977\n",
            "Epoch 4/15\n",
            "33701/33701 [==============================] - 88s 3ms/step - loss: 0.5738 - mse: 0.5738 - val_loss: 0.5685 - val_mse: 0.5685\n",
            "Epoch 5/15\n",
            "33701/33701 [==============================] - 93s 3ms/step - loss: 0.5502 - mse: 0.5502 - val_loss: 0.5575 - val_mse: 0.5575\n",
            "Epoch 6/15\n",
            "33701/33701 [==============================] - 88s 3ms/step - loss: 0.5392 - mse: 0.5392 - val_loss: 0.5526 - val_mse: 0.5526\n",
            "Epoch 7/15\n",
            "33701/33701 [==============================] - 92s 3ms/step - loss: 0.5340 - mse: 0.5340 - val_loss: 0.5504 - val_mse: 0.5504\n",
            "Epoch 8/15\n",
            "33701/33701 [==============================] - 90s 3ms/step - loss: 0.5312 - mse: 0.5312 - val_loss: 0.5489 - val_mse: 0.5489\n",
            "Epoch 9/15\n",
            "33701/33701 [==============================] - 91s 3ms/step - loss: 0.5298 - mse: 0.5298 - val_loss: 0.5484 - val_mse: 0.5484\n",
            "Epoch 10/15\n",
            "33701/33701 [==============================] - 96s 3ms/step - loss: 0.5288 - mse: 0.5288 - val_loss: 0.5479 - val_mse: 0.5479\n",
            "Epoch 11/15\n",
            "33701/33701 [==============================] - 93s 3ms/step - loss: 0.5282 - mse: 0.5282 - val_loss: 0.5480 - val_mse: 0.5480\n",
            "Epoch 12/15\n",
            "33701/33701 [==============================] - 87s 3ms/step - loss: 0.5277 - mse: 0.5277 - val_loss: 0.5478 - val_mse: 0.5478\n",
            "Epoch 13/15\n",
            "33701/33701 [==============================] - 89s 3ms/step - loss: 0.5274 - mse: 0.5274 - val_loss: 0.5478 - val_mse: 0.5478\n",
            "Epoch 14/15\n",
            "33701/33701 [==============================] - 86s 3ms/step - loss: 0.5271 - mse: 0.5271 - val_loss: 0.5476 - val_mse: 0.5476\n",
            "Epoch 15/15\n",
            "33701/33701 [==============================] - 94s 3ms/step - loss: 0.5269 - mse: 0.5269 - val_loss: 0.5475 - val_mse: 0.5475\n"
          ]
        }
      ]
    },
    {
      "cell_type": "code",
      "source": [
        "# plot losses\n",
        "plt.plot(r.history['loss'], label=\"train loss\")\n",
        "plt.plot(r.history['val_loss'], label=\"test loss\")\n",
        "plt.legend()\n",
        "plt.show()"
      ],
      "metadata": {
        "colab": {
          "base_uri": "https://localhost:8080/",
          "height": 265
        },
        "id": "06d2VRW_uncW",
        "outputId": "95ed84e1-9407-4978-d4cb-dcde5daed9f3"
      },
      "execution_count": 13,
      "outputs": [
        {
          "output_type": "display_data",
          "data": {
            "text/plain": [
              "<Figure size 432x288 with 1 Axes>"
            ],
            "image/png": "[encoded data removed]"
          },
          "metadata": {
            "needs_background": "light"
          }
        }
      ]
    }
  ]
}